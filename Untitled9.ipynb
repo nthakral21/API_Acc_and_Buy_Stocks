{
  "nbformat": 4,
  "nbformat_minor": 0,
  "metadata": {
    "colab": {
      "provenance": [],
      "toc_visible": true
    },
    "kernelspec": {
      "name": "python3",
      "display_name": "Python 3"
    },
    "language_info": {
      "name": "python"
    }
  },
  "cells": [
    {
      "cell_type": "code",
      "source": [
        "import requests\n",
        "import json\n",
        "\n",
        "def fetch_account_number():\n",
        "\n",
        "    url = \"https://customer-analytics-34146.my.salesforce-sites.com/services/apexrest/createAccount\"\n",
        "\n",
        "\n",
        "    headers = {\n",
        "        \"Content-Type\": \"application/json\"\n",
        "    }\n",
        "\n",
        "\n",
        "    payload = {\n",
        "        \"name\": \"Narayan\",\n",
        "        \"email\": \"narayan0925.be21@chitkara.edu.in\",\n",
        "        \"rollNumber\": 2110990925,\n",
        "        \"phone\": 8168893693\n",
        "    }\n",
        "\n",
        "\n",
        "    payload_json = json.dumps(payload)\n",
        "\n",
        "    try:\n",
        "\n",
        "        response = requests.post(url, headers=headers, data=payload_json)\n",
        "\n",
        "\n",
        "        if response.status_code == 200:\n",
        "\n",
        "            response_data = response.json()\n",
        "\n",
        "            account_number = response_data.get(\"accountNumber\")\n",
        "            return account_number\n",
        "        else:\n",
        "            print(f\"Request failed with status code: {response.status_code}\")\n",
        "            return None\n",
        "    except Exception as e:\n",
        "        print(f\"An error occurred: {e}\")\n",
        "        return None\n",
        "\n",
        "def buy_stocks(account_number, company_name, current_price, github_repo_link):\n",
        "\n",
        "    url = \"https://customer-analytics-34146.my.salesforce-sites.com/services/apexrest/buyStocks\"\n",
        "\n",
        "\n",
        "    headers = {\n",
        "        \"Content-Type\": \"application/json\",\n",
        "        \"bfhl-auth\": \"2110990925\"\n",
        "    }\n",
        "\n",
        "    payload = {\n",
        "        \"company\": company_name,\n",
        "        \"currentPrice\": current_price,\n",
        "        \"accountNumber\": account_number,\n",
        "        \"githubRepoLink\": github_repo_link\n",
        "    }\n",
        "\n",
        "\n",
        "    payload_json = json.dumps(payload)\n",
        "\n",
        "    try:\n",
        "\n",
        "        response = requests.post(url, headers=headers, data=payload_json)\n",
        "\n",
        "        if response.status_code == 200:\n",
        "            print(\"Stock purchase successful.\")\n",
        "        else:\n",
        "            print(f\"Failed to buy stocks. Status code: {response.status_code}\")\n",
        "    except Exception as e:\n",
        "        print(f\"An error occurred: {e}\")\n",
        "\n",
        "account_number = fetch_account_number()\n",
        "if account_number:\n",
        "    print(f\"Account Number: {account_number}\")\n",
        "    buy_stocks(account_number, \"Bajaj Fincerv\", 1577, \"https://github.com/nthakral21/API_Acc_and_Buy_Stocks/\")\n",
        "else:\n",
        "    print(\"Failed to fetch account number.\")\n"
      ],
      "metadata": {
        "colab": {
          "base_uri": "https://localhost:8080/"
        },
        "id": "uW8QyqK07xpk",
        "outputId": "6157f5d2-d7dc-40b6-a996-9e480e91536c"
      },
      "execution_count": 12,
      "outputs": [
        {
          "output_type": "stream",
          "name": "stdout",
          "text": [
            "Account Number: BFHL0018674\n",
            "Stock purchase successful.\n"
          ]
        }
      ]
    }
  ]
}